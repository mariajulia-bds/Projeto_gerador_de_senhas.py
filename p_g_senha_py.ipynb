{
  "nbformat": 4,
  "nbformat_minor": 0,
  "metadata": {
    "colab": {
      "provenance": [],
      "authorship_tag": "ABX9TyP+7DLpRpJXWkhHTp28uwLG",
      "include_colab_link": true
    },
    "kernelspec": {
      "name": "python3",
      "display_name": "Python 3"
    },
    "language_info": {
      "name": "python"
    }
  },
  "cells": [
    {
      "cell_type": "markdown",
      "metadata": {
        "id": "view-in-github",
        "colab_type": "text"
      },
      "source": [
        "<a href=\"https://colab.research.google.com/github/mariajulia-bds/Projeto_gerador_de_senhas.py/blob/main/p_g_senha_py.ipynb\" target=\"_parent\"><img src=\"https://colab.research.google.com/assets/colab-badge.svg\" alt=\"Open In Colab\"/></a>"
      ]
    },
    {
      "cell_type": "code",
      "execution_count": null,
      "metadata": {
        "id": "4wwEAMRzqUku"
      },
      "outputs": [],
      "source": []
    },
    {
      "cell_type": "markdown",
      "source": [
        "Projeto Gerador de Senha Criado no VS Code."
      ],
      "metadata": {
        "id": "-gpejkR9qV44"
      }
    },
    {
      "cell_type": "code",
      "source": [
        "# Maiuscúlas e minúsculas\n",
        "# símbolos e espaços\n",
        "\n",
        "\"\"\"\n",
        "animator = chave\n",
        "@n1m@70r = senha\n",
        "\n",
        "\"\"\"\n",
        "chave = input(\"Digite a base da sua senha: \")\n",
        "\n",
        "senha = \"\"\n",
        "for letra in chave:\n",
        "    if letra in \"Aa\":\n",
        "        senha = senha + \"@\"\n",
        "    elif letra in \"Bb\":\n",
        "        senha = senha + \"11\"\n",
        "    elif letra in \"Cc\":\n",
        "        senha = senha + \"12\"\n",
        "    elif letra in \"Tt\":\n",
        "        senha = senha + \"7\"\n",
        "    elif letra in \"Dd\":\n",
        "        senha = senha + \"13\"\n",
        "    elif letra in \"Oo\":\n",
        "        senha = senha + \"0\"\n",
        "    elif letra in \"Ii\":\n",
        "        senha = senha + \"1\"\n",
        "    else:\n",
        "        senha = senha + letra\n",
        "print(senha)\n"
      ],
      "metadata": {
        "colab": {
          "base_uri": "https://localhost:8080/"
        },
        "id": "jSDYQpitqgKu",
        "outputId": "eddc2f86-b409-4936-b5b1-1e3671bb1d2d"
      },
      "execution_count": 1,
      "outputs": [
        {
          "output_type": "stream",
          "name": "stdout",
          "text": [
            "Digite a base da sua senha: animator\n",
            "@n1m@70r\n"
          ]
        }
      ]
    }
  ]
}